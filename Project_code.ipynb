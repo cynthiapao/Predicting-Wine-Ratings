{
 "cells": [
  {
   "cell_type": "markdown",
   "metadata": {},
   "source": [
    "This data interested me when I searched in the Kaggle datasets. I am not a professional taster. But I remember the time I tried to create cocktails by myself during a summer holiday. It was...not good (- -|||). Recently, I started to learn about wine basics, especially about how to read a wine label, since it is always difficult to select a suitable one from so many varieties of wines when purchasing. I have stepped on several land mines so far. So hope to learn more from this dataset as well."
   ]
  },
  {
   "cell_type": "markdown",
   "metadata": {},
   "source": [
    "Roadmap:\n",
    "\n",
    "1. Import data : drop duplicates\n",
    "2. Preliminary analysis\n",
    " * Numerical variables: descriptive stats, distribution, correlation analysis\n",
    " * Categorical variables: frequency table, correlation analysis\n",
    "3. Data preparation\n",
    " * Missing data imputation\n",
    " * Text preprocessing\n",
    " * Feature extraction\n",
    "4. Modeling"
   ]
  },
  {
   "cell_type": "markdown",
   "metadata": {},
   "source": [
    "## Import Data"
   ]
  },
  {
   "cell_type": "code",
   "execution_count": 1,
   "metadata": {
    "_cell_guid": "79c7e3d0-c299-4dcb-8224-4455121ee9b0",
    "_uuid": "d629ff2d2480ee46fbb7e2d37f6b5fab8052498a"
   },
   "outputs": [
    {
     "name": "stdout",
     "output_type": "stream",
     "text": [
      "Before removing duplicates: 150930\n"
     ]
    },
    {
     "data": {
      "text/html": [
       "<div>\n",
       "<style scoped>\n",
       "    .dataframe tbody tr th:only-of-type {\n",
       "        vertical-align: middle;\n",
       "    }\n",
       "\n",
       "    .dataframe tbody tr th {\n",
       "        vertical-align: top;\n",
       "    }\n",
       "\n",
       "    .dataframe thead th {\n",
       "        text-align: right;\n",
       "    }\n",
       "</style>\n",
       "<table border=\"1\" class=\"dataframe\">\n",
       "  <thead>\n",
       "    <tr style=\"text-align: right;\">\n",
       "      <th></th>\n",
       "      <th>country</th>\n",
       "      <th>description</th>\n",
       "      <th>designation</th>\n",
       "      <th>points</th>\n",
       "      <th>price</th>\n",
       "      <th>province</th>\n",
       "      <th>region_1</th>\n",
       "      <th>region_2</th>\n",
       "      <th>variety</th>\n",
       "      <th>winery</th>\n",
       "    </tr>\n",
       "  </thead>\n",
       "  <tbody>\n",
       "    <tr>\n",
       "      <th>150925</th>\n",
       "      <td>Italy</td>\n",
       "      <td>Many people feel Fiano represents southern Ita...</td>\n",
       "      <td>NaN</td>\n",
       "      <td>91</td>\n",
       "      <td>20.0</td>\n",
       "      <td>Southern Italy</td>\n",
       "      <td>Fiano di Avellino</td>\n",
       "      <td>NaN</td>\n",
       "      <td>White Blend</td>\n",
       "      <td>Feudi di San Gregorio</td>\n",
       "    </tr>\n",
       "    <tr>\n",
       "      <th>150926</th>\n",
       "      <td>France</td>\n",
       "      <td>Offers an intriguing nose with ginger, lime an...</td>\n",
       "      <td>Cuvée Prestige</td>\n",
       "      <td>91</td>\n",
       "      <td>27.0</td>\n",
       "      <td>Champagne</td>\n",
       "      <td>Champagne</td>\n",
       "      <td>NaN</td>\n",
       "      <td>Champagne Blend</td>\n",
       "      <td>H.Germain</td>\n",
       "    </tr>\n",
       "    <tr>\n",
       "      <th>150927</th>\n",
       "      <td>Italy</td>\n",
       "      <td>This classic example comes from a cru vineyard...</td>\n",
       "      <td>Terre di Dora</td>\n",
       "      <td>91</td>\n",
       "      <td>20.0</td>\n",
       "      <td>Southern Italy</td>\n",
       "      <td>Fiano di Avellino</td>\n",
       "      <td>NaN</td>\n",
       "      <td>White Blend</td>\n",
       "      <td>Terredora</td>\n",
       "    </tr>\n",
       "    <tr>\n",
       "      <th>150928</th>\n",
       "      <td>France</td>\n",
       "      <td>A perfect salmon shade, with scents of peaches...</td>\n",
       "      <td>Grand Brut Rosé</td>\n",
       "      <td>90</td>\n",
       "      <td>52.0</td>\n",
       "      <td>Champagne</td>\n",
       "      <td>Champagne</td>\n",
       "      <td>NaN</td>\n",
       "      <td>Champagne Blend</td>\n",
       "      <td>Gosset</td>\n",
       "    </tr>\n",
       "    <tr>\n",
       "      <th>150929</th>\n",
       "      <td>Italy</td>\n",
       "      <td>More Pinot Grigios should taste like this. A r...</td>\n",
       "      <td>NaN</td>\n",
       "      <td>90</td>\n",
       "      <td>15.0</td>\n",
       "      <td>Northeastern Italy</td>\n",
       "      <td>Alto Adige</td>\n",
       "      <td>NaN</td>\n",
       "      <td>Pinot Grigio</td>\n",
       "      <td>Alois Lageder</td>\n",
       "    </tr>\n",
       "  </tbody>\n",
       "</table>\n",
       "</div>"
      ],
      "text/plain": [
       "       country          ...                           winery\n",
       "150925   Italy          ...            Feudi di San Gregorio\n",
       "150926  France          ...                        H.Germain\n",
       "150927   Italy          ...                        Terredora\n",
       "150928  France          ...                           Gosset\n",
       "150929   Italy          ...                    Alois Lageder\n",
       "\n",
       "[5 rows x 10 columns]"
      ]
     },
     "execution_count": 1,
     "metadata": {},
     "output_type": "execute_result"
    }
   ],
   "source": [
    "import numpy as np\n",
    "import pandas as pd\n",
    "import matplotlib.pyplot as plt\n",
    "import seaborn as sns\n",
    "sns.set_style('white')\n",
    "sns.set_context('notebook', font_scale=1.5)\n",
    "%matplotlib inline\n",
    "import warnings\n",
    "warnings.filterwarnings('ignore')\n",
    "\n",
    "wine_reviews = pd.read_csv(\"../input/wine-reviews/winemag-data_first150k.csv\", index_col=0)\n",
    "print(\"Before removing duplicates:\", len(wine_reviews))\n",
    "wine_reviews.tail()"
   ]
  },
  {
   "cell_type": "markdown",
   "metadata": {},
   "source": [
    "### Drop Duplicates"
   ]
  },
  {
   "cell_type": "markdown",
   "metadata": {},
   "source": [
    "One way to remove duplicated is based on all columns. I have also seen people removing duplicates based on the description column. The two ways yield different results as seen from below."
   ]
  },
  {
   "cell_type": "code",
   "execution_count": 2,
   "metadata": {},
   "outputs": [
    {
     "name": "stdout",
     "output_type": "stream",
     "text": [
      "Removing duplicates based on all columns: 97851\n"
     ]
    }
   ],
   "source": [
    "# if we count for description, we can see there are multiple duplicate rows for each description\n",
    "# wine_reviews.description.value_counts(dropna=False)\n",
    "\n",
    "# dedup based on all columns\n",
    "wine_reviews = wine_reviews.drop_duplicates()\n",
    "print(\"Removing duplicates based on all columns:\", len(wine_reviews))"
   ]
  },
  {
   "cell_type": "code",
   "execution_count": 4,
   "metadata": {},
   "outputs": [
    {
     "name": "stdout",
     "output_type": "stream",
     "text": [
      "Removing duplicates based on description: 97821\n"
     ]
    }
   ],
   "source": [
    "# dedup based on description\n",
    "wine_reviews_ddp = wine_reviews.drop_duplicates('description')\n",
    "print(\"Removing duplicates based on description:\", len(wine_reviews_ddp))"
   ]
  },
  {
   "cell_type": "markdown",
   "metadata": {},
   "source": [
    "Which way to use? I will find these duplicate rows and see."
   ]
  },
  {
   "cell_type": "code",
   "execution_count": 5,
   "metadata": {
    "_kg_hide-output": true
   },
   "outputs": [
    {
     "data": {
      "text/html": [
       "<div>\n",
       "<style scoped>\n",
       "    .dataframe tbody tr th:only-of-type {\n",
       "        vertical-align: middle;\n",
       "    }\n",
       "\n",
       "    .dataframe tbody tr th {\n",
       "        vertical-align: top;\n",
       "    }\n",
       "\n",
       "    .dataframe thead th {\n",
       "        text-align: right;\n",
       "    }\n",
       "</style>\n",
       "<table border=\"1\" class=\"dataframe\">\n",
       "  <thead>\n",
       "    <tr style=\"text-align: right;\">\n",
       "      <th></th>\n",
       "      <th>country</th>\n",
       "      <th>description</th>\n",
       "      <th>designation</th>\n",
       "      <th>points</th>\n",
       "      <th>price</th>\n",
       "      <th>province</th>\n",
       "      <th>region_1</th>\n",
       "      <th>region_2</th>\n",
       "      <th>variety</th>\n",
       "      <th>winery</th>\n",
       "      <th>_merge</th>\n",
       "    </tr>\n",
       "  </thead>\n",
       "  <tbody>\n",
       "    <tr>\n",
       "      <th>4605</th>\n",
       "      <td>Italy</td>\n",
       "      <td>Ripe plum, game, truffle, leather and menthol ...</td>\n",
       "      <td>NaN</td>\n",
       "      <td>88</td>\n",
       "      <td>72.0</td>\n",
       "      <td>Tuscany</td>\n",
       "      <td>Brunello di Montalcino</td>\n",
       "      <td>NaN</td>\n",
       "      <td>Sangiovese</td>\n",
       "      <td>La Mannella</td>\n",
       "      <td>both</td>\n",
       "    </tr>\n",
       "    <tr>\n",
       "      <th>7311</th>\n",
       "      <td>Italy</td>\n",
       "      <td>Ripe plum, game, truffle, leather and menthol ...</td>\n",
       "      <td>NaN</td>\n",
       "      <td>87</td>\n",
       "      <td>40.0</td>\n",
       "      <td>Tuscany</td>\n",
       "      <td>Brunello di Montalcino</td>\n",
       "      <td>NaN</td>\n",
       "      <td>Sangiovese</td>\n",
       "      <td>Poggiarellino</td>\n",
       "      <td>left_only</td>\n",
       "    </tr>\n",
       "    <tr>\n",
       "      <th>17785</th>\n",
       "      <td>Italy</td>\n",
       "      <td>Gibilmoro, a pure expression of Nero d'Avola, ...</td>\n",
       "      <td>Gibilmoro</td>\n",
       "      <td>86</td>\n",
       "      <td>20.0</td>\n",
       "      <td>Sicily &amp; Sardinia</td>\n",
       "      <td>Sicilia</td>\n",
       "      <td>NaN</td>\n",
       "      <td>Merlot</td>\n",
       "      <td>Di Prima</td>\n",
       "      <td>both</td>\n",
       "    </tr>\n",
       "    <tr>\n",
       "      <th>17858</th>\n",
       "      <td>Italy</td>\n",
       "      <td>Gibilmoro, a pure expression of Nero d'Avola, ...</td>\n",
       "      <td>Gibilmoro</td>\n",
       "      <td>86</td>\n",
       "      <td>20.0</td>\n",
       "      <td>Sicily &amp; Sardinia</td>\n",
       "      <td>Sicilia</td>\n",
       "      <td>NaN</td>\n",
       "      <td>Nero d'Avola</td>\n",
       "      <td>Di Prima</td>\n",
       "      <td>left_only</td>\n",
       "    </tr>\n",
       "    <tr>\n",
       "      <th>21992</th>\n",
       "      <td>Australia</td>\n",
       "      <td>In 2009 this single vineyard offering includes...</td>\n",
       "      <td>Noble Baron</td>\n",
       "      <td>90</td>\n",
       "      <td>50.0</td>\n",
       "      <td>South Australia</td>\n",
       "      <td>Barossa</td>\n",
       "      <td>NaN</td>\n",
       "      <td>Cabernet Sauvignon</td>\n",
       "      <td>Château Tanunda</td>\n",
       "      <td>both</td>\n",
       "    </tr>\n",
       "    <tr>\n",
       "      <th>22106</th>\n",
       "      <td>US</td>\n",
       "      <td>In 2009 this single vineyard offering includes...</td>\n",
       "      <td>Horse Heaven Vineyard</td>\n",
       "      <td>90</td>\n",
       "      <td>15.0</td>\n",
       "      <td>Washington</td>\n",
       "      <td>Horse Heaven Hills</td>\n",
       "      <td>Columbia Valley</td>\n",
       "      <td>Sauvignon Blanc</td>\n",
       "      <td>Chateau Ste. Michelle</td>\n",
       "      <td>left_only</td>\n",
       "    </tr>\n",
       "    <tr>\n",
       "      <th>22114</th>\n",
       "      <td>US</td>\n",
       "      <td>From Minick Family estate vineyards, this inte...</td>\n",
       "      <td>NaN</td>\n",
       "      <td>90</td>\n",
       "      <td>12.0</td>\n",
       "      <td>Washington</td>\n",
       "      <td>Yakima Valley</td>\n",
       "      <td>Columbia Valley</td>\n",
       "      <td>Riesling</td>\n",
       "      <td>Willow Crest</td>\n",
       "      <td>both</td>\n",
       "    </tr>\n",
       "    <tr>\n",
       "      <th>22115</th>\n",
       "      <td>Austria</td>\n",
       "      <td>From Minick Family estate vineyards, this inte...</td>\n",
       "      <td>Kremser Wachtberg</td>\n",
       "      <td>90</td>\n",
       "      <td>25.0</td>\n",
       "      <td>Niederösterreich</td>\n",
       "      <td>NaN</td>\n",
       "      <td>NaN</td>\n",
       "      <td>Grüner Veltliner</td>\n",
       "      <td>Winzer Krems</td>\n",
       "      <td>left_only</td>\n",
       "    </tr>\n",
       "    <tr>\n",
       "      <th>22828</th>\n",
       "      <td>Chile</td>\n",
       "      <td>Dark, earthy and rubbery aromas go along with ...</td>\n",
       "      <td>Estate</td>\n",
       "      <td>86</td>\n",
       "      <td>12.0</td>\n",
       "      <td>Aconcagua Valley</td>\n",
       "      <td>NaN</td>\n",
       "      <td>NaN</td>\n",
       "      <td>Cabernet Sauvignon</td>\n",
       "      <td>Errazuriz</td>\n",
       "      <td>both</td>\n",
       "    </tr>\n",
       "    <tr>\n",
       "      <th>22880</th>\n",
       "      <td>US</td>\n",
       "      <td>Dark, earthy and rubbery aromas go along with ...</td>\n",
       "      <td>Steinbeck Vineyard</td>\n",
       "      <td>86</td>\n",
       "      <td>21.0</td>\n",
       "      <td>California</td>\n",
       "      <td>Paso Robles</td>\n",
       "      <td>Central Coast</td>\n",
       "      <td>Syrah</td>\n",
       "      <td>Eberle</td>\n",
       "      <td>left_only</td>\n",
       "    </tr>\n",
       "    <tr>\n",
       "      <th>27525</th>\n",
       "      <td>Italy</td>\n",
       "      <td>If you've ever wondered what makes this wine s...</td>\n",
       "      <td>Masseto</td>\n",
       "      <td>97</td>\n",
       "      <td>240.0</td>\n",
       "      <td>Tuscany</td>\n",
       "      <td>Toscana</td>\n",
       "      <td>NaN</td>\n",
       "      <td>Merlot</td>\n",
       "      <td>Tenuta dell'Ornellaia</td>\n",
       "      <td>both</td>\n",
       "    </tr>\n",
       "    <tr>\n",
       "      <th>27526</th>\n",
       "      <td>Italy</td>\n",
       "      <td>If you've ever wondered what makes this wine s...</td>\n",
       "      <td>Ornellaia</td>\n",
       "      <td>97</td>\n",
       "      <td>240.0</td>\n",
       "      <td>Tuscany</td>\n",
       "      <td>Bolgheri Superiore</td>\n",
       "      <td>NaN</td>\n",
       "      <td>Red Blend</td>\n",
       "      <td>Tenuta dell'Ornellaia</td>\n",
       "      <td>left_only</td>\n",
       "    </tr>\n",
       "    <tr>\n",
       "      <th>41997</th>\n",
       "      <td>US</td>\n",
       "      <td>Savory on the nose with modest apple and pear ...</td>\n",
       "      <td>Dry</td>\n",
       "      <td>87</td>\n",
       "      <td>18.0</td>\n",
       "      <td>New York</td>\n",
       "      <td>Finger Lakes</td>\n",
       "      <td>Finger Lakes</td>\n",
       "      <td>Riesling</td>\n",
       "      <td>Bellangelo</td>\n",
       "      <td>both</td>\n",
       "    </tr>\n",
       "    <tr>\n",
       "      <th>42308</th>\n",
       "      <td>Austria</td>\n",
       "      <td>Aromatic notions of peach precede a fresh, lig...</td>\n",
       "      <td>NaN</td>\n",
       "      <td>87</td>\n",
       "      <td>NaN</td>\n",
       "      <td>Niederösterreich</td>\n",
       "      <td>NaN</td>\n",
       "      <td>NaN</td>\n",
       "      <td>Riesling</td>\n",
       "      <td>Stift Klosterneuburg</td>\n",
       "      <td>both</td>\n",
       "    </tr>\n",
       "    <tr>\n",
       "      <th>43233</th>\n",
       "      <td>US</td>\n",
       "      <td>As weighty as a Chardonnay, this is a Sauvigno...</td>\n",
       "      <td>Dutton Ranch - Cohen Vineyard</td>\n",
       "      <td>92</td>\n",
       "      <td>20.0</td>\n",
       "      <td>California</td>\n",
       "      <td>Russian River Valley</td>\n",
       "      <td>Sonoma</td>\n",
       "      <td>Sauvignon Blanc</td>\n",
       "      <td>Dutton Estate</td>\n",
       "      <td>both</td>\n",
       "    </tr>\n",
       "    <tr>\n",
       "      <th>44081</th>\n",
       "      <td>US</td>\n",
       "      <td>Savory on the nose with modest apple and pear ...</td>\n",
       "      <td>Semi-Dry</td>\n",
       "      <td>85</td>\n",
       "      <td>15.0</td>\n",
       "      <td>New York</td>\n",
       "      <td>Finger Lakes</td>\n",
       "      <td>Finger Lakes</td>\n",
       "      <td>Riesling</td>\n",
       "      <td>Bellangelo</td>\n",
       "      <td>left_only</td>\n",
       "    </tr>\n",
       "    <tr>\n",
       "      <th>44367</th>\n",
       "      <td>Austria</td>\n",
       "      <td>Aromatic notions of peach precede a fresh, lig...</td>\n",
       "      <td>NaN</td>\n",
       "      <td>85</td>\n",
       "      <td>NaN</td>\n",
       "      <td>Niederösterreich</td>\n",
       "      <td>NaN</td>\n",
       "      <td>NaN</td>\n",
       "      <td>Riesling</td>\n",
       "      <td>Stadlmann</td>\n",
       "      <td>left_only</td>\n",
       "    </tr>\n",
       "    <tr>\n",
       "      <th>48581</th>\n",
       "      <td>France</td>\n",
       "      <td>92-94 Barrel sample. A rounded wine, its tanni...</td>\n",
       "      <td>Barrel sample</td>\n",
       "      <td>93</td>\n",
       "      <td>NaN</td>\n",
       "      <td>Bordeaux</td>\n",
       "      <td>Pauillac</td>\n",
       "      <td>NaN</td>\n",
       "      <td>Bordeaux-style Red Blend</td>\n",
       "      <td>Château Fonbadet</td>\n",
       "      <td>both</td>\n",
       "    </tr>\n",
       "    <tr>\n",
       "      <th>48820</th>\n",
       "      <td>France</td>\n",
       "      <td>92-94 Barrel sample. A rounded wine, its tanni...</td>\n",
       "      <td>Barrel sample</td>\n",
       "      <td>93</td>\n",
       "      <td>NaN</td>\n",
       "      <td>Bordeaux</td>\n",
       "      <td>Pauillac</td>\n",
       "      <td>NaN</td>\n",
       "      <td>Bordeaux-style Red Blend</td>\n",
       "      <td>Château Duhart-Milon</td>\n",
       "      <td>left_only</td>\n",
       "    </tr>\n",
       "    <tr>\n",
       "      <th>54071</th>\n",
       "      <td>US</td>\n",
       "      <td>Deep briary, wild-berry and pepper aromas. In ...</td>\n",
       "      <td>Los Chamizal Vineyard</td>\n",
       "      <td>88</td>\n",
       "      <td>20.0</td>\n",
       "      <td>California</td>\n",
       "      <td>Sonoma Valley</td>\n",
       "      <td>Sonoma</td>\n",
       "      <td>Zinfandel</td>\n",
       "      <td>Haywood</td>\n",
       "      <td>both</td>\n",
       "    </tr>\n",
       "    <tr>\n",
       "      <th>54084</th>\n",
       "      <td>US</td>\n",
       "      <td>Deep briary, wild-berry and pepper aromas. In ...</td>\n",
       "      <td>Los Chamizal Vineyard</td>\n",
       "      <td>88</td>\n",
       "      <td>20.0</td>\n",
       "      <td>California</td>\n",
       "      <td>Sonoma County</td>\n",
       "      <td>Sonoma</td>\n",
       "      <td>Zinfandel</td>\n",
       "      <td>Haywood</td>\n",
       "      <td>left_only</td>\n",
       "    </tr>\n",
       "    <tr>\n",
       "      <th>55192</th>\n",
       "      <td>US</td>\n",
       "      <td>A seductive nose of pineapple, pear, vanilla a...</td>\n",
       "      <td>NaN</td>\n",
       "      <td>91</td>\n",
       "      <td>32.0</td>\n",
       "      <td>California</td>\n",
       "      <td>Russian River Valley</td>\n",
       "      <td>Sonoma</td>\n",
       "      <td>Chardonnay</td>\n",
       "      <td>Cakebread</td>\n",
       "      <td>both</td>\n",
       "    </tr>\n",
       "    <tr>\n",
       "      <th>55357</th>\n",
       "      <td>US</td>\n",
       "      <td>A seductive nose of pineapple, pear, vanilla a...</td>\n",
       "      <td>NaN</td>\n",
       "      <td>91</td>\n",
       "      <td>32.0</td>\n",
       "      <td>California</td>\n",
       "      <td>Napa Valley</td>\n",
       "      <td>Napa</td>\n",
       "      <td>Chardonnay</td>\n",
       "      <td>Cakebread</td>\n",
       "      <td>left_only</td>\n",
       "    </tr>\n",
       "    <tr>\n",
       "      <th>57395</th>\n",
       "      <td>New Zealand</td>\n",
       "      <td>Steer clear of this one if you like your Sauvi...</td>\n",
       "      <td>Sauvage</td>\n",
       "      <td>91</td>\n",
       "      <td>32.0</td>\n",
       "      <td>Hawke's Bay</td>\n",
       "      <td>NaN</td>\n",
       "      <td>NaN</td>\n",
       "      <td>Sauvignon Blanc</td>\n",
       "      <td>Sacred Hill</td>\n",
       "      <td>both</td>\n",
       "    </tr>\n",
       "    <tr>\n",
       "      <th>57412</th>\n",
       "      <td>New Zealand</td>\n",
       "      <td>Steer clear of this one if you like your Sauvi...</td>\n",
       "      <td>Reserve</td>\n",
       "      <td>90</td>\n",
       "      <td>18.0</td>\n",
       "      <td>Marlborough</td>\n",
       "      <td>NaN</td>\n",
       "      <td>NaN</td>\n",
       "      <td>Sauvignon Blanc</td>\n",
       "      <td>Coopers Creek</td>\n",
       "      <td>left_only</td>\n",
       "    </tr>\n",
       "    <tr>\n",
       "      <th>58072</th>\n",
       "      <td>Israel</td>\n",
       "      <td>Sweet cherry and baking vanilla aromas are fol...</td>\n",
       "      <td>Jonathan Tishbi Special Reserve Single Vineyar...</td>\n",
       "      <td>89</td>\n",
       "      <td>55.0</td>\n",
       "      <td>Negev Hills</td>\n",
       "      <td>NaN</td>\n",
       "      <td>NaN</td>\n",
       "      <td>Bordeaux-style Red Blend</td>\n",
       "      <td>Tishbi Estate</td>\n",
       "      <td>both</td>\n",
       "    </tr>\n",
       "    <tr>\n",
       "      <th>58317</th>\n",
       "      <td>New Zealand</td>\n",
       "      <td>Asparagus and green-herb aromas run smoothly i...</td>\n",
       "      <td>Reserve</td>\n",
       "      <td>86</td>\n",
       "      <td>24.0</td>\n",
       "      <td>Marlborough</td>\n",
       "      <td>NaN</td>\n",
       "      <td>NaN</td>\n",
       "      <td>Sauvignon Blanc</td>\n",
       "      <td>Wairau River</td>\n",
       "      <td>both</td>\n",
       "    </tr>\n",
       "    <tr>\n",
       "      <th>58318</th>\n",
       "      <td>New Zealand</td>\n",
       "      <td>Asparagus and green-herb aromas run smoothly i...</td>\n",
       "      <td>NaN</td>\n",
       "      <td>86</td>\n",
       "      <td>20.0</td>\n",
       "      <td>Marlborough</td>\n",
       "      <td>NaN</td>\n",
       "      <td>NaN</td>\n",
       "      <td>Sauvignon Blanc</td>\n",
       "      <td>Wairau River</td>\n",
       "      <td>left_only</td>\n",
       "    </tr>\n",
       "    <tr>\n",
       "      <th>58486</th>\n",
       "      <td>US</td>\n",
       "      <td>As weighty as a Chardonnay, this is a Sauvigno...</td>\n",
       "      <td>Dutton Ranch Cohen Vineyard</td>\n",
       "      <td>92</td>\n",
       "      <td>22.0</td>\n",
       "      <td>California</td>\n",
       "      <td>Russian River Valley</td>\n",
       "      <td>Sonoma</td>\n",
       "      <td>Sauvignon Blanc</td>\n",
       "      <td>Dutton Estate</td>\n",
       "      <td>left_only</td>\n",
       "    </tr>\n",
       "    <tr>\n",
       "      <th>58925</th>\n",
       "      <td>US</td>\n",
       "      <td>Pleasant enough and Chard-like, with aromas of...</td>\n",
       "      <td>NaN</td>\n",
       "      <td>83</td>\n",
       "      <td>9.0</td>\n",
       "      <td>California</td>\n",
       "      <td>California</td>\n",
       "      <td>California Other</td>\n",
       "      <td>Chardonnay</td>\n",
       "      <td>Woodbridge</td>\n",
       "      <td>both</td>\n",
       "    </tr>\n",
       "    <tr>\n",
       "      <th>58939</th>\n",
       "      <td>US</td>\n",
       "      <td>Pleasant enough and Chard-like, with aromas of...</td>\n",
       "      <td>NaN</td>\n",
       "      <td>82</td>\n",
       "      <td>10.0</td>\n",
       "      <td>California</td>\n",
       "      <td>Monterey County</td>\n",
       "      <td>Central Coast</td>\n",
       "      <td>Chardonnay</td>\n",
       "      <td>Blackstone</td>\n",
       "      <td>left_only</td>\n",
       "    </tr>\n",
       "    <tr>\n",
       "      <th>59281</th>\n",
       "      <td>Argentina</td>\n",
       "      <td>Powerful in Zinny character, this blend of Dry...</td>\n",
       "      <td>Familia</td>\n",
       "      <td>87</td>\n",
       "      <td>58.0</td>\n",
       "      <td>Mendoza Province</td>\n",
       "      <td>Mendoza</td>\n",
       "      <td>NaN</td>\n",
       "      <td>Red Blend</td>\n",
       "      <td>Durigutti</td>\n",
       "      <td>both</td>\n",
       "    </tr>\n",
       "    <tr>\n",
       "      <th>59392</th>\n",
       "      <td>France</td>\n",
       "      <td>This solid Bordeaux achieves a nice balance be...</td>\n",
       "      <td>Haut-Medoc</td>\n",
       "      <td>88</td>\n",
       "      <td>27.0</td>\n",
       "      <td>Bordeaux</td>\n",
       "      <td>Haut-Médoc</td>\n",
       "      <td>NaN</td>\n",
       "      <td>Bordeaux-style Red Blend</td>\n",
       "      <td>Barons Edmund Benjamin de Rothschild</td>\n",
       "      <td>both</td>\n",
       "    </tr>\n",
       "    <tr>\n",
       "      <th>59396</th>\n",
       "      <td>France</td>\n",
       "      <td>This solid Bordeaux achieves a nice balance be...</td>\n",
       "      <td>NaN</td>\n",
       "      <td>88</td>\n",
       "      <td>27.0</td>\n",
       "      <td>Bordeaux</td>\n",
       "      <td>Bordeaux</td>\n",
       "      <td>NaN</td>\n",
       "      <td>Bordeaux-style Red Blend</td>\n",
       "      <td>Barons Edmund Benjamin de Rothschild</td>\n",
       "      <td>left_only</td>\n",
       "    </tr>\n",
       "    <tr>\n",
       "      <th>59452</th>\n",
       "      <td>US</td>\n",
       "      <td>Powerful in Zinny character, this blend of Dry...</td>\n",
       "      <td>Heritage</td>\n",
       "      <td>87</td>\n",
       "      <td>18.0</td>\n",
       "      <td>California</td>\n",
       "      <td>Sonoma County</td>\n",
       "      <td>Sonoma</td>\n",
       "      <td>Zinfandel</td>\n",
       "      <td>Dry Creek Vineyard</td>\n",
       "      <td>left_only</td>\n",
       "    </tr>\n",
       "    <tr>\n",
       "      <th>60512</th>\n",
       "      <td>US</td>\n",
       "      <td>This wine shows some of the less appealing asp...</td>\n",
       "      <td>Hargrave  Vineyard</td>\n",
       "      <td>82</td>\n",
       "      <td>14.0</td>\n",
       "      <td>New York</td>\n",
       "      <td>North Fork of Long Island</td>\n",
       "      <td>Long Island</td>\n",
       "      <td>Chardonnay</td>\n",
       "      <td>Castello di Borghese</td>\n",
       "      <td>both</td>\n",
       "    </tr>\n",
       "    <tr>\n",
       "      <th>60521</th>\n",
       "      <td>US</td>\n",
       "      <td>This wine shows some of the less appealing asp...</td>\n",
       "      <td>NaN</td>\n",
       "      <td>82</td>\n",
       "      <td>14.0</td>\n",
       "      <td>New York</td>\n",
       "      <td>North Fork of Long Island</td>\n",
       "      <td>Long Island</td>\n",
       "      <td>Chardonnay</td>\n",
       "      <td>Hargrave</td>\n",
       "      <td>left_only</td>\n",
       "    </tr>\n",
       "    <tr>\n",
       "      <th>61223</th>\n",
       "      <td>Israel</td>\n",
       "      <td>Sweet cherry and baking vanilla aromas are fol...</td>\n",
       "      <td>Kessem</td>\n",
       "      <td>84</td>\n",
       "      <td>NaN</td>\n",
       "      <td>Judean Hills</td>\n",
       "      <td>NaN</td>\n",
       "      <td>NaN</td>\n",
       "      <td>Bordeaux-style Red Blend</td>\n",
       "      <td>Agur</td>\n",
       "      <td>left_only</td>\n",
       "    </tr>\n",
       "    <tr>\n",
       "      <th>61902</th>\n",
       "      <td>Argentina</td>\n",
       "      <td>A little bit funky and unsettled when you pop ...</td>\n",
       "      <td>NaN</td>\n",
       "      <td>84</td>\n",
       "      <td>10.0</td>\n",
       "      <td>Mendoza Province</td>\n",
       "      <td>Mendoza</td>\n",
       "      <td>NaN</td>\n",
       "      <td>Malbec</td>\n",
       "      <td>Mariana</td>\n",
       "      <td>both</td>\n",
       "    </tr>\n",
       "    <tr>\n",
       "      <th>61913</th>\n",
       "      <td>France</td>\n",
       "      <td>A little bit funky and unsettled when you pop ...</td>\n",
       "      <td>Domaine Vincent Sauvestre Clos de la Platière</td>\n",
       "      <td>84</td>\n",
       "      <td>NaN</td>\n",
       "      <td>Burgundy</td>\n",
       "      <td>Pommard</td>\n",
       "      <td>NaN</td>\n",
       "      <td>Pinot Noir</td>\n",
       "      <td>Maison Jean-Baptiste Béjot</td>\n",
       "      <td>left_only</td>\n",
       "    </tr>\n",
       "    <tr>\n",
       "      <th>65776</th>\n",
       "      <td>France</td>\n",
       "      <td>90–92. Barrel sample. This is a solid and dens...</td>\n",
       "      <td>Barrel Sample</td>\n",
       "      <td>91</td>\n",
       "      <td>NaN</td>\n",
       "      <td>Bordeaux</td>\n",
       "      <td>Moulis-en-Médoc</td>\n",
       "      <td>NaN</td>\n",
       "      <td>Bordeaux-style Red Blend</td>\n",
       "      <td>Château Maucaillou</td>\n",
       "      <td>both</td>\n",
       "    </tr>\n",
       "    <tr>\n",
       "      <th>65778</th>\n",
       "      <td>France</td>\n",
       "      <td>90–92. Barrel sample. This is a solid and dens...</td>\n",
       "      <td>Barrel Sample</td>\n",
       "      <td>91</td>\n",
       "      <td>NaN</td>\n",
       "      <td>Bordeaux</td>\n",
       "      <td>Margaux</td>\n",
       "      <td>NaN</td>\n",
       "      <td>Bordeaux-style Red Blend</td>\n",
       "      <td>Château Pontac-Lynch</td>\n",
       "      <td>left_only</td>\n",
       "    </tr>\n",
       "    <tr>\n",
       "      <th>66118</th>\n",
       "      <td>France</td>\n",
       "      <td>92–94. Barrel sample. With so much spicy fruit...</td>\n",
       "      <td>Barrel Sample</td>\n",
       "      <td>93</td>\n",
       "      <td>NaN</td>\n",
       "      <td>Bordeaux</td>\n",
       "      <td>Pauillac</td>\n",
       "      <td>NaN</td>\n",
       "      <td>Bordeaux-style Red Blend</td>\n",
       "      <td>Château Grand-Puy-Lacoste</td>\n",
       "      <td>both</td>\n",
       "    </tr>\n",
       "    <tr>\n",
       "      <th>66119</th>\n",
       "      <td>France</td>\n",
       "      <td>92–94. Barrel sample. With so much spicy fruit...</td>\n",
       "      <td>Barrel Sample</td>\n",
       "      <td>93</td>\n",
       "      <td>NaN</td>\n",
       "      <td>Bordeaux</td>\n",
       "      <td>Saint-Julien</td>\n",
       "      <td>NaN</td>\n",
       "      <td>Bordeaux-style Red Blend</td>\n",
       "      <td>Château Gruaud Larose</td>\n",
       "      <td>left_only</td>\n",
       "    </tr>\n",
       "    <tr>\n",
       "      <th>67882</th>\n",
       "      <td>US</td>\n",
       "      <td>Sharp, simple and candied, with blackberry jam...</td>\n",
       "      <td>Yverdon Vineyard</td>\n",
       "      <td>86</td>\n",
       "      <td>65.0</td>\n",
       "      <td>California</td>\n",
       "      <td>Napa</td>\n",
       "      <td>NaN</td>\n",
       "      <td>Cabernet Sauvignon</td>\n",
       "      <td>Terra Valentine</td>\n",
       "      <td>both</td>\n",
       "    </tr>\n",
       "    <tr>\n",
       "      <th>68401</th>\n",
       "      <td>US</td>\n",
       "      <td>Sharp, simple and candied, with blackberry jam...</td>\n",
       "      <td>NaN</td>\n",
       "      <td>85</td>\n",
       "      <td>20.0</td>\n",
       "      <td>California</td>\n",
       "      <td>Napa Valley</td>\n",
       "      <td>Napa</td>\n",
       "      <td>Cabernet Sauvignon</td>\n",
       "      <td>BonAnno</td>\n",
       "      <td>left_only</td>\n",
       "    </tr>\n",
       "    <tr>\n",
       "      <th>69820</th>\n",
       "      <td>US</td>\n",
       "      <td>Shows all the hallmarks of an important young ...</td>\n",
       "      <td>NaN</td>\n",
       "      <td>93</td>\n",
       "      <td>40.0</td>\n",
       "      <td>California</td>\n",
       "      <td>Napa Valley</td>\n",
       "      <td>Napa</td>\n",
       "      <td>Cabernet Sauvignon</td>\n",
       "      <td>Freemark Abbey</td>\n",
       "      <td>both</td>\n",
       "    </tr>\n",
       "    <tr>\n",
       "      <th>69934</th>\n",
       "      <td>US</td>\n",
       "      <td>Shows all the hallmarks of an important young ...</td>\n",
       "      <td>Bosché Vineyard</td>\n",
       "      <td>93</td>\n",
       "      <td>70.0</td>\n",
       "      <td>California</td>\n",
       "      <td>Napa Valley</td>\n",
       "      <td>Napa</td>\n",
       "      <td>Cabernet Sauvignon</td>\n",
       "      <td>Freemark Abbey</td>\n",
       "      <td>left_only</td>\n",
       "    </tr>\n",
       "    <tr>\n",
       "      <th>83025</th>\n",
       "      <td>France</td>\n",
       "      <td>92-94 Barrel sample. A big, concentrated, powe...</td>\n",
       "      <td>Barrel sample</td>\n",
       "      <td>93</td>\n",
       "      <td>NaN</td>\n",
       "      <td>Bordeaux</td>\n",
       "      <td>Saint-Julien</td>\n",
       "      <td>NaN</td>\n",
       "      <td>Bordeaux-style Red Blend</td>\n",
       "      <td>Château Talbot</td>\n",
       "      <td>both</td>\n",
       "    </tr>\n",
       "    <tr>\n",
       "      <th>83298</th>\n",
       "      <td>France</td>\n",
       "      <td>92-94 Barrel sample. A big, concentrated, powe...</td>\n",
       "      <td>Barrel sample</td>\n",
       "      <td>93</td>\n",
       "      <td>NaN</td>\n",
       "      <td>Bordeaux</td>\n",
       "      <td>Saint-Julien</td>\n",
       "      <td>NaN</td>\n",
       "      <td>Bordeaux-style Red Blend</td>\n",
       "      <td>Château Langoa Barton</td>\n",
       "      <td>left_only</td>\n",
       "    </tr>\n",
       "    <tr>\n",
       "      <th>85760</th>\n",
       "      <td>France</td>\n",
       "      <td>Spicy, with raspberry and spearmint aromas. Sh...</td>\n",
       "      <td>Les Deux Rives Blanc</td>\n",
       "      <td>84</td>\n",
       "      <td>8.0</td>\n",
       "      <td>Languedoc-Roussillon</td>\n",
       "      <td>Corbières</td>\n",
       "      <td>NaN</td>\n",
       "      <td>White Blend</td>\n",
       "      <td>Val d'Orbieu</td>\n",
       "      <td>both</td>\n",
       "    </tr>\n",
       "    <tr>\n",
       "      <th>85923</th>\n",
       "      <td>France</td>\n",
       "      <td>Spicy, with raspberry and spearmint aromas. Sh...</td>\n",
       "      <td>Les Deux Rives Rouge</td>\n",
       "      <td>84</td>\n",
       "      <td>8.0</td>\n",
       "      <td>Languedoc-Roussillon</td>\n",
       "      <td>Corbières</td>\n",
       "      <td>NaN</td>\n",
       "      <td>Red Blend</td>\n",
       "      <td>Val d'Orbieu</td>\n",
       "      <td>left_only</td>\n",
       "    </tr>\n",
       "    <tr>\n",
       "      <th>87345</th>\n",
       "      <td>US</td>\n",
       "      <td>Very tannic, rough.</td>\n",
       "      <td>NaN</td>\n",
       "      <td>80</td>\n",
       "      <td>11.0</td>\n",
       "      <td>Washington</td>\n",
       "      <td>Columbia Valley (WA)</td>\n",
       "      <td>Columbia Valley</td>\n",
       "      <td>Cabernet Sauvignon</td>\n",
       "      <td>Hoodsport</td>\n",
       "      <td>both</td>\n",
       "    </tr>\n",
       "    <tr>\n",
       "      <th>87350</th>\n",
       "      <td>US</td>\n",
       "      <td>Very tannic, rough.</td>\n",
       "      <td>NaN</td>\n",
       "      <td>80</td>\n",
       "      <td>11.0</td>\n",
       "      <td>Washington</td>\n",
       "      <td>Columbia Valley (WA)</td>\n",
       "      <td>Columbia Valley</td>\n",
       "      <td>Cabernet Merlot</td>\n",
       "      <td>Hoodsport</td>\n",
       "      <td>left_only</td>\n",
       "    </tr>\n",
       "    <tr>\n",
       "      <th>89035</th>\n",
       "      <td>US</td>\n",
       "      <td>Very ripe and forward in baked fruit or pie-fi...</td>\n",
       "      <td>Reserve</td>\n",
       "      <td>85</td>\n",
       "      <td>48.0</td>\n",
       "      <td>California</td>\n",
       "      <td>Santa Ynez Valley</td>\n",
       "      <td>Central Coast</td>\n",
       "      <td>Syrah</td>\n",
       "      <td>Sunstone</td>\n",
       "      <td>both</td>\n",
       "    </tr>\n",
       "    <tr>\n",
       "      <th>89169</th>\n",
       "      <td>US</td>\n",
       "      <td>Very ripe and forward in baked fruit or pie-fi...</td>\n",
       "      <td>NaN</td>\n",
       "      <td>84</td>\n",
       "      <td>45.0</td>\n",
       "      <td>California</td>\n",
       "      <td>Santa Ynez Valley</td>\n",
       "      <td>Central Coast</td>\n",
       "      <td>Syrah</td>\n",
       "      <td>Sunstone</td>\n",
       "      <td>left_only</td>\n",
       "    </tr>\n",
       "    <tr>\n",
       "      <th>89922</th>\n",
       "      <td>Portugal</td>\n",
       "      <td>A lean, cool, initially austere wine, well bal...</td>\n",
       "      <td>NaN</td>\n",
       "      <td>90</td>\n",
       "      <td>36.0</td>\n",
       "      <td>Beiras</td>\n",
       "      <td>NaN</td>\n",
       "      <td>NaN</td>\n",
       "      <td>Portuguese Red</td>\n",
       "      <td>Quinta de Foz de Arouce</td>\n",
       "      <td>both</td>\n",
       "    </tr>\n",
       "    <tr>\n",
       "      <th>90531</th>\n",
       "      <td>Portugal</td>\n",
       "      <td>A lean, cool, initially austere wine, well bal...</td>\n",
       "      <td>Reserva</td>\n",
       "      <td>88</td>\n",
       "      <td>28.0</td>\n",
       "      <td>Douro</td>\n",
       "      <td>NaN</td>\n",
       "      <td>NaN</td>\n",
       "      <td>Portuguese Red</td>\n",
       "      <td>Poças</td>\n",
       "      <td>left_only</td>\n",
       "    </tr>\n",
       "    <tr>\n",
       "      <th>97675</th>\n",
       "      <td>Argentina</td>\n",
       "      <td>Fresh, tropical, and welcoming. Sweet and lush...</td>\n",
       "      <td>NaN</td>\n",
       "      <td>87</td>\n",
       "      <td>9.0</td>\n",
       "      <td>Mendoza Province</td>\n",
       "      <td>Uco Valley</td>\n",
       "      <td>NaN</td>\n",
       "      <td>Chardonnay</td>\n",
       "      <td>Finca El Portillo</td>\n",
       "      <td>both</td>\n",
       "    </tr>\n",
       "    <tr>\n",
       "      <th>97718</th>\n",
       "      <td>Argentina</td>\n",
       "      <td>Fresh, tropical, and welcoming. Sweet and lush...</td>\n",
       "      <td>NaN</td>\n",
       "      <td>86</td>\n",
       "      <td>9.0</td>\n",
       "      <td>Mendoza Province</td>\n",
       "      <td>Uco Valley</td>\n",
       "      <td>NaN</td>\n",
       "      <td>Chardonnay</td>\n",
       "      <td>Cabra Montes</td>\n",
       "      <td>left_only</td>\n",
       "    </tr>\n",
       "  </tbody>\n",
       "</table>\n",
       "</div>"
      ],
      "text/plain": [
       "           country    ...         _merge\n",
       "4605         Italy    ...           both\n",
       "7311         Italy    ...      left_only\n",
       "17785        Italy    ...           both\n",
       "17858        Italy    ...      left_only\n",
       "21992    Australia    ...           both\n",
       "22106           US    ...      left_only\n",
       "22114           US    ...           both\n",
       "22115      Austria    ...      left_only\n",
       "22828        Chile    ...           both\n",
       "22880           US    ...      left_only\n",
       "27525        Italy    ...           both\n",
       "27526        Italy    ...      left_only\n",
       "41997           US    ...           both\n",
       "42308      Austria    ...           both\n",
       "43233           US    ...           both\n",
       "44081           US    ...      left_only\n",
       "44367      Austria    ...      left_only\n",
       "48581       France    ...           both\n",
       "48820       France    ...      left_only\n",
       "54071           US    ...           both\n",
       "54084           US    ...      left_only\n",
       "55192           US    ...           both\n",
       "55357           US    ...      left_only\n",
       "57395  New Zealand    ...           both\n",
       "57412  New Zealand    ...      left_only\n",
       "58072       Israel    ...           both\n",
       "58317  New Zealand    ...           both\n",
       "58318  New Zealand    ...      left_only\n",
       "58486           US    ...      left_only\n",
       "58925           US    ...           both\n",
       "58939           US    ...      left_only\n",
       "59281    Argentina    ...           both\n",
       "59392       France    ...           both\n",
       "59396       France    ...      left_only\n",
       "59452           US    ...      left_only\n",
       "60512           US    ...           both\n",
       "60521           US    ...      left_only\n",
       "61223       Israel    ...      left_only\n",
       "61902    Argentina    ...           both\n",
       "61913       France    ...      left_only\n",
       "65776       France    ...           both\n",
       "65778       France    ...      left_only\n",
       "66118       France    ...           both\n",
       "66119       France    ...      left_only\n",
       "67882           US    ...           both\n",
       "68401           US    ...      left_only\n",
       "69820           US    ...           both\n",
       "69934           US    ...      left_only\n",
       "83025       France    ...           both\n",
       "83298       France    ...      left_only\n",
       "85760       France    ...           both\n",
       "85923       France    ...      left_only\n",
       "87345           US    ...           both\n",
       "87350           US    ...      left_only\n",
       "89035           US    ...           both\n",
       "89169           US    ...      left_only\n",
       "89922     Portugal    ...           both\n",
       "90531     Portugal    ...      left_only\n",
       "97675    Argentina    ...           both\n",
       "97718    Argentina    ...      left_only\n",
       "\n",
       "[60 rows x 11 columns]"
      ]
     },
     "execution_count": 5,
     "metadata": {},
     "output_type": "execute_result"
    }
   ],
   "source": [
    "# full join two dedupped data and find the rows only in the first with '_merge' flag\n",
    "wine_reviews_all = wine_reviews.merge(wine_reviews_ddp, how='outer', indicator=True)\n",
    "dup_wine_desc = wine_reviews_all[wine_reviews_all['_merge']=='left_only'].description\n",
    "\n",
    "wine_reviews_all[wine_reviews_all['description'].isin(dup_wine_desc)]"
   ]
  },
  {
   "cell_type": "markdown",
   "metadata": {},
   "source": [
    "Personally, I will go with the first approach: dedupping based on all columns. Take the first two rows for example, though the wine descriptions are the same, the wineries are different, which may somehow explain the different points and prices. If I remove one of them, we may lose some information."
   ]
  },
  {
   "cell_type": "markdown",
   "metadata": {},
   "source": [
    "**Before we proceed with next steps, remember to reset the index.** Otherwise, you would get an error with text cleaning just like me."
   ]
  },
  {
   "cell_type": "code",
   "execution_count": 6,
   "metadata": {},
   "outputs": [
    {
     "data": {
      "text/html": [
       "<div>\n",
       "<style scoped>\n",
       "    .dataframe tbody tr th:only-of-type {\n",
       "        vertical-align: middle;\n",
       "    }\n",
       "\n",
       "    .dataframe tbody tr th {\n",
       "        vertical-align: top;\n",
       "    }\n",
       "\n",
       "    .dataframe thead th {\n",
       "        text-align: right;\n",
       "    }\n",
       "</style>\n",
       "<table border=\"1\" class=\"dataframe\">\n",
       "  <thead>\n",
       "    <tr style=\"text-align: right;\">\n",
       "      <th></th>\n",
       "      <th>index</th>\n",
       "      <th>country</th>\n",
       "      <th>description</th>\n",
       "      <th>designation</th>\n",
       "      <th>points</th>\n",
       "      <th>price</th>\n",
       "      <th>province</th>\n",
       "      <th>region_1</th>\n",
       "      <th>region_2</th>\n",
       "      <th>variety</th>\n",
       "      <th>winery</th>\n",
       "    </tr>\n",
       "  </thead>\n",
       "  <tbody>\n",
       "    <tr>\n",
       "      <th>97846</th>\n",
       "      <td>149635</td>\n",
       "      <td>US</td>\n",
       "      <td>A Syrah-Grenache blend that's dry and rustical...</td>\n",
       "      <td>Bungalow Red</td>\n",
       "      <td>84</td>\n",
       "      <td>15.0</td>\n",
       "      <td>California</td>\n",
       "      <td>Santa Barbara County</td>\n",
       "      <td>Central Coast</td>\n",
       "      <td>Syrah-Grenache</td>\n",
       "      <td>Casa Barranca</td>\n",
       "    </tr>\n",
       "    <tr>\n",
       "      <th>97847</th>\n",
       "      <td>149636</td>\n",
       "      <td>Portugal</td>\n",
       "      <td>Oreo eaters will enjoy the aromas of this wine...</td>\n",
       "      <td>30-year old tawny</td>\n",
       "      <td>84</td>\n",
       "      <td>NaN</td>\n",
       "      <td>Port</td>\n",
       "      <td>NaN</td>\n",
       "      <td>NaN</td>\n",
       "      <td>Port</td>\n",
       "      <td>Casa Santa Eufemia</td>\n",
       "    </tr>\n",
       "    <tr>\n",
       "      <th>97848</th>\n",
       "      <td>149637</td>\n",
       "      <td>US</td>\n",
       "      <td>Outside of the vineyard, wines like this are w...</td>\n",
       "      <td>NaN</td>\n",
       "      <td>84</td>\n",
       "      <td>6.0</td>\n",
       "      <td>California</td>\n",
       "      <td>California</td>\n",
       "      <td>California Other</td>\n",
       "      <td>Merlot</td>\n",
       "      <td>Delicato</td>\n",
       "    </tr>\n",
       "    <tr>\n",
       "      <th>97849</th>\n",
       "      <td>149638</td>\n",
       "      <td>Argentina</td>\n",
       "      <td>Heavy and basic, with melon and pineapple arom...</td>\n",
       "      <td>NaN</td>\n",
       "      <td>84</td>\n",
       "      <td>9.0</td>\n",
       "      <td>Mendoza Province</td>\n",
       "      <td>Uco Valley</td>\n",
       "      <td>NaN</td>\n",
       "      <td>Sauvignon Blanc</td>\n",
       "      <td>Finca El Portillo</td>\n",
       "    </tr>\n",
       "    <tr>\n",
       "      <th>97850</th>\n",
       "      <td>149639</td>\n",
       "      <td>Australia</td>\n",
       "      <td>Smooth in the mouth, this Chard starts off wit...</td>\n",
       "      <td>NaN</td>\n",
       "      <td>84</td>\n",
       "      <td>8.0</td>\n",
       "      <td>Australia Other</td>\n",
       "      <td>South Eastern Australia</td>\n",
       "      <td>NaN</td>\n",
       "      <td>Chardonnay</td>\n",
       "      <td>Jacob's Creek</td>\n",
       "    </tr>\n",
       "  </tbody>\n",
       "</table>\n",
       "</div>"
      ],
      "text/plain": [
       "        index         ...                      winery\n",
       "97846  149635         ...               Casa Barranca\n",
       "97847  149636         ...          Casa Santa Eufemia\n",
       "97848  149637         ...                    Delicato\n",
       "97849  149638         ...           Finca El Portillo\n",
       "97850  149639         ...               Jacob's Creek\n",
       "\n",
       "[5 rows x 11 columns]"
      ]
     },
     "execution_count": 6,
     "metadata": {},
     "output_type": "execute_result"
    }
   ],
   "source": [
    "# just to illustrate the difference\n",
    "wine_reviews.reset_index().tail()"
   ]
  },
  {
   "cell_type": "code",
   "execution_count": 7,
   "metadata": {
    "_kg_hide-output": false,
    "collapsed": true
   },
   "outputs": [],
   "source": [
    "wine_reviews = wine_reviews.reset_index(drop = True)"
   ]
  },
  {
   "cell_type": "markdown",
   "metadata": {},
   "source": [
    "## Preliminary Analysis"
   ]
  },
  {
   "cell_type": "markdown",
   "metadata": {},
   "source": [
    "As always, we need to check and understand our raw data first."
   ]
  },
  {
   "cell_type": "markdown",
   "metadata": {},
   "source": [
    "### Numeric Variables"
   ]
  },
  {
   "cell_type": "markdown",
   "metadata": {},
   "source": [
    "#### 1. Check the distribution"
   ]
  },
  {
   "cell_type": "code",
   "execution_count": null,
   "metadata": {
    "collapsed": true
   },
   "outputs": [],
   "source": [
    "wine_reviews.describe()"
   ]
  },
  {
   "cell_type": "markdown",
   "metadata": {},
   "source": [
    "The points are within 80 and 100, with majority of wines have got points less than 90. There are no missing values in points. The range of price is much larger, from 4 to 2300, with a great quantity of wines are less expensive than 40. This makes sense because good wines are always precious."
   ]
  },
  {
   "cell_type": "code",
   "execution_count": null,
   "metadata": {
    "collapsed": true
   },
   "outputs": [],
   "source": [
    "print('Skewness=%.3f' %wine_reviews['points'].skew())\n",
    "print('Kurtosis=%.3f' %wine_reviews['points'].kurtosis())\n",
    "sns.distplot(wine_reviews['points'], bins=20, kde=True);"
   ]
  },
  {
   "cell_type": "code",
   "execution_count": null,
   "metadata": {
    "collapsed": true
   },
   "outputs": [],
   "source": [
    "print('Skewness=%.3f' %wine_reviews['price'].skew())\n",
    "print('Kurtosis=%.3f' %wine_reviews['price'].kurtosis())\n",
    "sns.distplot(wine_reviews['price'].dropna());"
   ]
  },
  {
   "cell_type": "code",
   "execution_count": null,
   "metadata": {
    "collapsed": true
   },
   "outputs": [],
   "source": [
    "print('Skewness=%.3f' %np.log(wine_reviews['price']).skew())\n",
    "print('Kurtosis=%.3f' %np.log(wine_reviews['price']).kurtosis())\n",
    "sns.distplot(np.log(wine_reviews['price']).dropna());"
   ]
  },
  {
   "cell_type": "markdown",
   "metadata": {},
   "source": [
    "As we can see from the plots, values of points are quite concentrated but price is highly skewed with extreme values. After log transfomation, both the skewness and kurtosis are somewhat corrected."
   ]
  },
  {
   "cell_type": "markdown",
   "metadata": {},
   "source": [
    "#### 2. Correlation between price and point"
   ]
  },
  {
   "cell_type": "code",
   "execution_count": null,
   "metadata": {
    "collapsed": true
   },
   "outputs": [],
   "source": [
    "sns.set(style = 'whitegrid', rc = {'figure.figsize':(8,6), 'axes.labelsize':12})\n",
    "sns.scatterplot(x = 'price', y = 'points', data = wine_reviews);"
   ]
  },
  {
   "cell_type": "markdown",
   "metadata": {},
   "source": [
    "It is hard to see any patterns according to the scatter plot. Let us try boxplot."
   ]
  },
  {
   "cell_type": "code",
   "execution_count": null,
   "metadata": {
    "collapsed": true
   },
   "outputs": [],
   "source": [
    "sns.boxplot(x = 'points', y = 'price', palette = 'Set2', data = wine_reviews, linewidth = 1.5);"
   ]
  },
  {
   "cell_type": "markdown",
   "metadata": {},
   "source": [
    "The overall trend that prices go up as points increase is obvious. That is, there exists a positive correlation between these two. Of course, among the wines that have the same points, their prices can vary a lot."
   ]
  },
  {
   "cell_type": "code",
   "execution_count": null,
   "metadata": {
    "collapsed": true
   },
   "outputs": [],
   "source": [
    "wine_reviews['points'].corr(wine_reviews['price'])"
   ]
  },
  {
   "cell_type": "markdown",
   "metadata": {},
   "source": [
    "Not so close to 1, so the positive association is not strong."
   ]
  },
  {
   "cell_type": "markdown",
   "metadata": {},
   "source": [
    "### Categorical Variables"
   ]
  },
  {
   "cell_type": "markdown",
   "metadata": {},
   "source": [
    "#### 1. Check the distribution"
   ]
  },
  {
   "cell_type": "code",
   "execution_count": null,
   "metadata": {
    "collapsed": true
   },
   "outputs": [],
   "source": [
    "wine_cat = wine_reviews.select_dtypes(include=['object']).columns\n",
    "print('n rows: %s' %len(wine_reviews))\n",
    "for i in range(len(wine_cat)):\n",
    "    c = wine_cat[i]\n",
    "    print(c, ': %s' %len(wine_reviews[c].unique()))"
   ]
  },
  {
   "cell_type": "markdown",
   "metadata": {},
   "source": [
    "Because there are too many unique values in columns like designation, it is not very informative to make a frequency table including them all. There could be only a few counts within each category and we cannot tell any patterns. I will just pick country and region_2."
   ]
  },
  {
   "cell_type": "code",
   "execution_count": null,
   "metadata": {
    "collapsed": true
   },
   "outputs": [],
   "source": [
    "wine_reviews['country'].value_counts()"
   ]
  },
  {
   "cell_type": "markdown",
   "metadata": {},
   "source": [
    "Nearly half of the wines are coming from the US. Italy and France are also two main wine production countries."
   ]
  },
  {
   "cell_type": "code",
   "execution_count": null,
   "metadata": {
    "collapsed": true
   },
   "outputs": [],
   "source": [
    "print(wine_reviews['region_2'].isna().sum())\n",
    "wine_reviews['region_2'].value_counts()"
   ]
  },
  {
   "cell_type": "markdown",
   "metadata": {},
   "source": [
    "Excluding the missing values in region_2, we can see that Central Coast, Sonoma, Columbia Valley, and Napa are among top wine pruduction areas."
   ]
  },
  {
   "cell_type": "markdown",
   "metadata": {},
   "source": [
    "*An issue not related to data...*"
   ]
  },
  {
   "cell_type": "markdown",
   "metadata": {},
   "source": [
    "*The variable description under region_1 says \"the wine growing area in a province or state (ie Napa)\" while that under region_2 says \"sometimes there are more specific regions specified within a wine growing area\". But if we take a look at both region_1 and region_2 columns, it seems that region_1 is more granular than region_2. This can also be referred from the above unique value counts, - region_1 1237 and region_2 19. *"
   ]
  },
  {
   "cell_type": "markdown",
   "metadata": {},
   "source": [
    "#### 2. Correlation with point"
   ]
  },
  {
   "cell_type": "code",
   "execution_count": null,
   "metadata": {
    "collapsed": true
   },
   "outputs": [],
   "source": [
    "fig, ax = plt.subplots(1, 1, figsize = (12, 7))\n",
    "col_order = wine_reviews.groupby(['country'])['points'].aggregate(np.median).reset_index().sort_values('points')\n",
    "p = sns.boxplot(x = 'country', y = 'points', palette = 'Set3', data = wine_reviews, order = col_order['country'], linewidth = 1.5)\n",
    "plt.setp(p.get_xticklabels(), rotation = 90)\n",
    "ax.set_xlabel('');"
   ]
  },
  {
   "cell_type": "markdown",
   "metadata": {},
   "source": [
    "Wines produced in England far exceed any other countries though the quantity is relatively small. As a well-known wine country, France also produces many high quality wines judging from the average point. Furthermore, its variety is diverse as the points range from 80 to 100. German wines have the similar characteristics. "
   ]
  },
  {
   "cell_type": "code",
   "execution_count": null,
   "metadata": {
    "_kg_hide-output": false,
    "collapsed": true
   },
   "outputs": [],
   "source": [
    "fig, ax = plt.subplots(1, 1, figsize = (10, 6))\n",
    "col_order = wine_reviews.groupby(['region_2'])['points'].aggregate(np.median).reset_index().sort_values('points')\n",
    "p = sns.boxplot(x = 'region_2', y = 'points', palette = 'Set3', data = wine_reviews, order = col_order['region_2'], linewidth = 1.5)\n",
    "plt.setp(p.get_xticklabels(), rotation = 60)\n",
    "ax.set_xlabel('');"
   ]
  },
  {
   "cell_type": "markdown",
   "metadata": {},
   "source": [
    "The median points of wines from Willamette Valley, Columbia Valley, and Napa seem to be the same. These three regions are all located in the US. Actually the regions listed in the plot are all located in the US. It seems that US wine regions are populated well while regions of other countries are not in region_2 column."
   ]
  },
  {
   "cell_type": "markdown",
   "metadata": {},
   "source": [
    "#### 3. How about description?"
   ]
  },
  {
   "cell_type": "code",
   "execution_count": null,
   "metadata": {
    "collapsed": true
   },
   "outputs": [],
   "source": [
    "wine_reviews['word_count'] = wine_reviews['description'].apply(lambda x: len(str(x).split(\" \")))\n",
    "sns.boxplot(x = 'points', y = 'word_count', palette = 'Set3', data = wine_reviews, linewidth = 1.5);"
   ]
  },
  {
   "cell_type": "markdown",
   "metadata": {},
   "source": [
    "Looks like wines with higher points usually have longer descriptions. That is interesting. Maybe next time when I make comparisons, I can select whose labels have the most words. Easy to implement, huh?"
   ]
  },
  {
   "cell_type": "markdown",
   "metadata": {},
   "source": [
    "### Response Variable"
   ]
  },
  {
   "cell_type": "markdown",
   "metadata": {},
   "source": [
    "We have already known that wine points range from 80 to 100. Intuitively, it should be a regression problem. But because of the range limit, I decide to convert the points into a categorical variable."
   ]
  },
  {
   "cell_type": "code",
   "execution_count": null,
   "metadata": {
    "collapsed": true
   },
   "outputs": [],
   "source": [
    "def transform_points_simplified(points):\n",
    "    if points < 84:\n",
    "        return 1\n",
    "    elif points >= 84 and points < 88:\n",
    "        return 2 \n",
    "    elif points >= 88 and points < 92:\n",
    "        return 3 \n",
    "    elif points >= 92 and points < 96:\n",
    "        return 4 \n",
    "    else:\n",
    "        return 5"
   ]
  },
  {
   "cell_type": "markdown",
   "metadata": {},
   "source": [
    "## Data Preparation"
   ]
  },
  {
   "cell_type": "markdown",
   "metadata": {},
   "source": [
    "### Missing Data Imputation"
   ]
  },
  {
   "cell_type": "code",
   "execution_count": null,
   "metadata": {
    "collapsed": true
   },
   "outputs": [],
   "source": [
    "print(wine_reviews.isnull().sum())"
   ]
  },
  {
   "cell_type": "code",
   "execution_count": 8,
   "metadata": {},
   "outputs": [
    {
     "data": {
      "text/html": [
       "<div>\n",
       "<style scoped>\n",
       "    .dataframe tbody tr th:only-of-type {\n",
       "        vertical-align: middle;\n",
       "    }\n",
       "\n",
       "    .dataframe tbody tr th {\n",
       "        vertical-align: top;\n",
       "    }\n",
       "\n",
       "    .dataframe thead th {\n",
       "        text-align: right;\n",
       "    }\n",
       "</style>\n",
       "<table border=\"1\" class=\"dataframe\">\n",
       "  <thead>\n",
       "    <tr style=\"text-align: right;\">\n",
       "      <th></th>\n",
       "      <th>percent</th>\n",
       "    </tr>\n",
       "  </thead>\n",
       "  <tbody>\n",
       "    <tr>\n",
       "      <th>country</th>\n",
       "      <td>0.003066</td>\n",
       "    </tr>\n",
       "    <tr>\n",
       "      <th>description</th>\n",
       "      <td>0.000000</td>\n",
       "    </tr>\n",
       "    <tr>\n",
       "      <th>designation</th>\n",
       "      <td>30.552575</td>\n",
       "    </tr>\n",
       "    <tr>\n",
       "      <th>points</th>\n",
       "      <td>0.000000</td>\n",
       "    </tr>\n",
       "    <tr>\n",
       "      <th>price</th>\n",
       "      <td>8.911508</td>\n",
       "    </tr>\n",
       "    <tr>\n",
       "      <th>province</th>\n",
       "      <td>0.003066</td>\n",
       "    </tr>\n",
       "    <tr>\n",
       "      <th>region_1</th>\n",
       "      <td>16.281898</td>\n",
       "    </tr>\n",
       "    <tr>\n",
       "      <th>region_2</th>\n",
       "      <td>59.641700</td>\n",
       "    </tr>\n",
       "    <tr>\n",
       "      <th>variety</th>\n",
       "      <td>0.000000</td>\n",
       "    </tr>\n",
       "    <tr>\n",
       "      <th>winery</th>\n",
       "      <td>0.000000</td>\n",
       "    </tr>\n",
       "  </tbody>\n",
       "</table>\n",
       "</div>"
      ],
      "text/plain": [
       "               percent\n",
       "country       0.003066\n",
       "description   0.000000\n",
       "designation  30.552575\n",
       "points        0.000000\n",
       "price         8.911508\n",
       "province      0.003066\n",
       "region_1     16.281898\n",
       "region_2     59.641700\n",
       "variety       0.000000\n",
       "winery        0.000000"
      ]
     },
     "execution_count": 8,
     "metadata": {},
     "output_type": "execute_result"
    }
   ],
   "source": [
    "# calculate percentage of missing values\n",
    "wine_missing = pd.DataFrame(wine_reviews.isnull().sum()/len(wine_reviews.index) * 100)\n",
    "wine_missing.columns = ['percent']\n",
    "wine_missing"
   ]
  },
  {
   "cell_type": "markdown",
   "metadata": {},
   "source": [
    "We only have 9 independent variables in total so the principle is keeping as most as possible. In my house price kernel, I first used 15% of missing values as the criterion to decide whether to keep a variable or not. But if we do the same thing here, we would end up with only 6 variables."
   ]
  },
  {
   "cell_type": "code",
   "execution_count": 9,
   "metadata": {},
   "outputs": [
    {
     "data": {
      "text/html": [
       "<div>\n",
       "<style scoped>\n",
       "    .dataframe tbody tr th:only-of-type {\n",
       "        vertical-align: middle;\n",
       "    }\n",
       "\n",
       "    .dataframe tbody tr th {\n",
       "        vertical-align: top;\n",
       "    }\n",
       "\n",
       "    .dataframe thead th {\n",
       "        text-align: right;\n",
       "    }\n",
       "</style>\n",
       "<table border=\"1\" class=\"dataframe\">\n",
       "  <thead>\n",
       "    <tr style=\"text-align: right;\">\n",
       "      <th></th>\n",
       "      <th>country</th>\n",
       "      <th>description</th>\n",
       "      <th>designation</th>\n",
       "      <th>points</th>\n",
       "      <th>price</th>\n",
       "      <th>province</th>\n",
       "      <th>region_1</th>\n",
       "      <th>variety</th>\n",
       "      <th>winery</th>\n",
       "    </tr>\n",
       "  </thead>\n",
       "  <tbody>\n",
       "    <tr>\n",
       "      <th>97846</th>\n",
       "      <td>US</td>\n",
       "      <td>A Syrah-Grenache blend that's dry and rustical...</td>\n",
       "      <td>Bungalow Red</td>\n",
       "      <td>84</td>\n",
       "      <td>15.0</td>\n",
       "      <td>California</td>\n",
       "      <td>Santa Barbara County</td>\n",
       "      <td>Syrah-Grenache</td>\n",
       "      <td>Casa Barranca</td>\n",
       "    </tr>\n",
       "    <tr>\n",
       "      <th>97847</th>\n",
       "      <td>Portugal</td>\n",
       "      <td>Oreo eaters will enjoy the aromas of this wine...</td>\n",
       "      <td>30-year old tawny</td>\n",
       "      <td>84</td>\n",
       "      <td>25.0</td>\n",
       "      <td>Port</td>\n",
       "      <td>Unknown</td>\n",
       "      <td>Port</td>\n",
       "      <td>Casa Santa Eufemia</td>\n",
       "    </tr>\n",
       "    <tr>\n",
       "      <th>97848</th>\n",
       "      <td>US</td>\n",
       "      <td>Outside of the vineyard, wines like this are w...</td>\n",
       "      <td>Unknown</td>\n",
       "      <td>84</td>\n",
       "      <td>6.0</td>\n",
       "      <td>California</td>\n",
       "      <td>California</td>\n",
       "      <td>Merlot</td>\n",
       "      <td>Delicato</td>\n",
       "    </tr>\n",
       "    <tr>\n",
       "      <th>97849</th>\n",
       "      <td>Argentina</td>\n",
       "      <td>Heavy and basic, with melon and pineapple arom...</td>\n",
       "      <td>Unknown</td>\n",
       "      <td>84</td>\n",
       "      <td>9.0</td>\n",
       "      <td>Mendoza Province</td>\n",
       "      <td>Uco Valley</td>\n",
       "      <td>Sauvignon Blanc</td>\n",
       "      <td>Finca El Portillo</td>\n",
       "    </tr>\n",
       "    <tr>\n",
       "      <th>97850</th>\n",
       "      <td>Australia</td>\n",
       "      <td>Smooth in the mouth, this Chard starts off wit...</td>\n",
       "      <td>Unknown</td>\n",
       "      <td>84</td>\n",
       "      <td>8.0</td>\n",
       "      <td>Australia Other</td>\n",
       "      <td>South Eastern Australia</td>\n",
       "      <td>Chardonnay</td>\n",
       "      <td>Jacob's Creek</td>\n",
       "    </tr>\n",
       "  </tbody>\n",
       "</table>\n",
       "</div>"
      ],
      "text/plain": [
       "         country         ...                      winery\n",
       "97846         US         ...               Casa Barranca\n",
       "97847   Portugal         ...          Casa Santa Eufemia\n",
       "97848         US         ...                    Delicato\n",
       "97849  Argentina         ...           Finca El Portillo\n",
       "97850  Australia         ...               Jacob's Creek\n",
       "\n",
       "[5 rows x 9 columns]"
      ]
     },
     "execution_count": 9,
     "metadata": {},
     "output_type": "execute_result"
    }
   ],
   "source": [
    "# first, we know that region_2 has nearly 60% of missing values so drop it\n",
    "wine_reviews.drop(['region_2'], inplace = True, axis = 1, errors = 'ignore')\n",
    "\n",
    "# second, it is not sensible to replace na with most frequent category for designation and region_1, so I create a new Unkown category\n",
    "wine_reviews['designation'].fillna('Unknown', inplace = True)\n",
    "wine_reviews['region_1'].fillna('Unknown', inplace = True)\n",
    "\n",
    "# last, replace na with median for numeric variable price\n",
    "wine_reviews['price'].fillna((wine_reviews['price'].median()), inplace = True)\n",
    "wine_reviews.tail()"
   ]
  },
  {
   "cell_type": "markdown",
   "metadata": {},
   "source": [
    "Since country and region_1 both have 3 missing values, I am wondering if they are among the same rows. "
   ]
  },
  {
   "cell_type": "code",
   "execution_count": 10,
   "metadata": {},
   "outputs": [
    {
     "data": {
      "text/html": [
       "<div>\n",
       "<style scoped>\n",
       "    .dataframe tbody tr th:only-of-type {\n",
       "        vertical-align: middle;\n",
       "    }\n",
       "\n",
       "    .dataframe tbody tr th {\n",
       "        vertical-align: top;\n",
       "    }\n",
       "\n",
       "    .dataframe thead th {\n",
       "        text-align: right;\n",
       "    }\n",
       "</style>\n",
       "<table border=\"1\" class=\"dataframe\">\n",
       "  <thead>\n",
       "    <tr style=\"text-align: right;\">\n",
       "      <th></th>\n",
       "      <th>country</th>\n",
       "      <th>description</th>\n",
       "      <th>designation</th>\n",
       "      <th>points</th>\n",
       "      <th>price</th>\n",
       "      <th>province</th>\n",
       "      <th>region_1</th>\n",
       "      <th>variety</th>\n",
       "      <th>winery</th>\n",
       "    </tr>\n",
       "  </thead>\n",
       "  <tbody>\n",
       "    <tr>\n",
       "      <th>1091</th>\n",
       "      <td>NaN</td>\n",
       "      <td>Delicate white flowers and a spin of lemon pee...</td>\n",
       "      <td>Askitikos</td>\n",
       "      <td>90</td>\n",
       "      <td>17.0</td>\n",
       "      <td>NaN</td>\n",
       "      <td>Unknown</td>\n",
       "      <td>Assyrtiko</td>\n",
       "      <td>Tsililis</td>\n",
       "    </tr>\n",
       "    <tr>\n",
       "      <th>1383</th>\n",
       "      <td>NaN</td>\n",
       "      <td>A blend of 60% Syrah, 30% Cabernet Sauvignon a...</td>\n",
       "      <td>Shah</td>\n",
       "      <td>90</td>\n",
       "      <td>30.0</td>\n",
       "      <td>NaN</td>\n",
       "      <td>Unknown</td>\n",
       "      <td>Red Blend</td>\n",
       "      <td>Büyülübağ</td>\n",
       "    </tr>\n",
       "    <tr>\n",
       "      <th>60636</th>\n",
       "      <td>NaN</td>\n",
       "      <td>From first sniff to last, the nose never makes...</td>\n",
       "      <td>Piedra Feliz</td>\n",
       "      <td>81</td>\n",
       "      <td>15.0</td>\n",
       "      <td>NaN</td>\n",
       "      <td>Unknown</td>\n",
       "      <td>Pinot Noir</td>\n",
       "      <td>Chilcas</td>\n",
       "    </tr>\n",
       "  </tbody>\n",
       "</table>\n",
       "</div>"
      ],
      "text/plain": [
       "      country    ...         winery\n",
       "1091      NaN    ...       Tsililis\n",
       "1383      NaN    ...      Büyülübağ\n",
       "60636     NaN    ...        Chilcas\n",
       "\n",
       "[3 rows x 9 columns]"
      ]
     },
     "execution_count": 10,
     "metadata": {},
     "output_type": "execute_result"
    }
   ],
   "source": [
    "wine_reviews[wine_reviews['country'].isna()]"
   ]
  },
  {
   "cell_type": "markdown",
   "metadata": {},
   "source": [
    "Further take a look at the rows whose winery are one of the above three. It seems like many unkown region_1 are located in Chile. But I am questionable about how to define province and region_1. The provinces listed are Chile’s prominent wine regions, e.g. Maule Valley. Maule Valley belongs to Maule Region if you check it using Google Map. In principle, XXX Valley should be a name of a region, like Napa Valley in California. "
   ]
  },
  {
   "cell_type": "markdown",
   "metadata": {},
   "source": [
    "I also checked several Chilean wines on winemag.com. They usually have a appellation which format is like \"Central Valley, Chile\", rather than others like \"Paso Robles, Central Coast, California, US\". So that should be the reason why these XXX Valleys appear in the province column."
   ]
  },
  {
   "cell_type": "code",
   "execution_count": null,
   "metadata": {
    "_kg_hide-output": true,
    "collapsed": true
   },
   "outputs": [],
   "source": [
    "wine_reviews[wine_reviews.winery.isin(['Tsililis', 'Büyülübağ', 'Chilcas'])]"
   ]
  },
  {
   "cell_type": "markdown",
   "metadata": {},
   "source": [
    "I searched online and found the information about the wines with missing country and province.\n",
    "* [Tsililis 2015 Askitikos Assyrtiko](https://www.winemag.com/buying-guide/tsililis-2015-askitikos-assyrtiko)\n",
    "* [Büyülübağ 2012 Shah Red](https://www.winemag.com/buying-guide/buyuluba-2012-shah-red)\n",
    "* [Chilcas 2006 Piedra Feliz Pinot Noir](https://www.winemag.com/buying-guide/chilcas-2006-piedra-feliz-pinot-noir-san-rafael)"
   ]
  },
  {
   "cell_type": "code",
   "execution_count": 11,
   "metadata": {
    "collapsed": true
   },
   "outputs": [],
   "source": [
    "wine_reviews.loc[wine_reviews.designation == 'Askitikos', 'country'] = 'Greece'\n",
    "wine_reviews.loc[wine_reviews.designation == 'Askitikos', 'province'] = 'Thessaly'\n",
    "\n",
    "wine_reviews.loc[wine_reviews.designation == 'Shah', 'country'] = 'Turkey'\n",
    "wine_reviews.loc[wine_reviews.designation == 'Shah', 'province'] = 'Marmara'\n",
    "\n",
    "# As I have said, San Rafael is located in Maule Region; for simplicity, I assign 'Maule Valley' in line with other rows\n",
    "wine_reviews.loc[wine_reviews.designation == 'Piedra Feliz', 'country'] = 'Chile'\n",
    "wine_reviews.loc[wine_reviews.designation == 'Piedra Feliz', 'province'] = 'Maule Valley'\n",
    "wine_reviews.loc[wine_reviews.designation == 'Piedra Feliz', 'region_1'] = 'San Rafael'"
   ]
  },
  {
   "cell_type": "code",
   "execution_count": 12,
   "metadata": {},
   "outputs": [
    {
     "data": {
      "text/html": [
       "<div>\n",
       "<style scoped>\n",
       "    .dataframe tbody tr th:only-of-type {\n",
       "        vertical-align: middle;\n",
       "    }\n",
       "\n",
       "    .dataframe tbody tr th {\n",
       "        vertical-align: top;\n",
       "    }\n",
       "\n",
       "    .dataframe thead th {\n",
       "        text-align: right;\n",
       "    }\n",
       "</style>\n",
       "<table border=\"1\" class=\"dataframe\">\n",
       "  <thead>\n",
       "    <tr style=\"text-align: right;\">\n",
       "      <th></th>\n",
       "      <th>country</th>\n",
       "      <th>description</th>\n",
       "      <th>designation</th>\n",
       "      <th>points</th>\n",
       "      <th>price</th>\n",
       "      <th>province</th>\n",
       "      <th>region_1</th>\n",
       "      <th>variety</th>\n",
       "      <th>winery</th>\n",
       "    </tr>\n",
       "  </thead>\n",
       "  <tbody>\n",
       "    <tr>\n",
       "      <th>1091</th>\n",
       "      <td>Greece</td>\n",
       "      <td>Delicate white flowers and a spin of lemon pee...</td>\n",
       "      <td>Askitikos</td>\n",
       "      <td>90</td>\n",
       "      <td>17.0</td>\n",
       "      <td>Thessaly</td>\n",
       "      <td>Unknown</td>\n",
       "      <td>Assyrtiko</td>\n",
       "      <td>Tsililis</td>\n",
       "    </tr>\n",
       "    <tr>\n",
       "      <th>1383</th>\n",
       "      <td>Turkey</td>\n",
       "      <td>A blend of 60% Syrah, 30% Cabernet Sauvignon a...</td>\n",
       "      <td>Shah</td>\n",
       "      <td>90</td>\n",
       "      <td>30.0</td>\n",
       "      <td>Marmara</td>\n",
       "      <td>Unknown</td>\n",
       "      <td>Red Blend</td>\n",
       "      <td>Büyülübağ</td>\n",
       "    </tr>\n",
       "    <tr>\n",
       "      <th>60636</th>\n",
       "      <td>Chile</td>\n",
       "      <td>From first sniff to last, the nose never makes...</td>\n",
       "      <td>Piedra Feliz</td>\n",
       "      <td>81</td>\n",
       "      <td>15.0</td>\n",
       "      <td>Maule Valley</td>\n",
       "      <td>San Rafael</td>\n",
       "      <td>Pinot Noir</td>\n",
       "      <td>Chilcas</td>\n",
       "    </tr>\n",
       "  </tbody>\n",
       "</table>\n",
       "</div>"
      ],
      "text/plain": [
       "      country    ...         winery\n",
       "1091   Greece    ...       Tsililis\n",
       "1383   Turkey    ...      Büyülübağ\n",
       "60636   Chile    ...        Chilcas\n",
       "\n",
       "[3 rows x 9 columns]"
      ]
     },
     "execution_count": 12,
     "metadata": {},
     "output_type": "execute_result"
    }
   ],
   "source": [
    "wine_reviews[wine_reviews.designation.isin(['Askitikos', 'Shah', 'Piedra Feliz'])]"
   ]
  },
  {
   "cell_type": "markdown",
   "metadata": {},
   "source": [
    "### One-Hot Encoding"
   ]
  },
  {
   "cell_type": "markdown",
   "metadata": {},
   "source": [
    "Before we process the description column, we need to encode the rest of categorical variables first."
   ]
  },
  {
   "cell_type": "code",
   "execution_count": 13,
   "metadata": {},
   "outputs": [
    {
     "data": {
      "text/plain": [
       "(97851, 14811)"
      ]
     },
     "execution_count": 13,
     "metadata": {},
     "output_type": "execute_result"
    }
   ],
   "source": [
    "enc_cols = wine_reviews.columns.drop(['description', 'points', 'price'])\n",
    "for col in enc_cols:\n",
    "    dummies = pd.get_dummies(wine_reviews[col], prefix = col, drop_first = False)\n",
    "    X_encoded = pd.concat([wine_reviews['price'], dummies], axis = 1)\n",
    "\n",
    "X_encoded.shape"
   ]
  },
  {
   "cell_type": "markdown",
   "metadata": {},
   "source": [
    "### Text Preprocessing"
   ]
  },
  {
   "cell_type": "code",
   "execution_count": 14,
   "metadata": {
    "collapsed": true
   },
   "outputs": [],
   "source": [
    "import nltk\n",
    "from nltk.tokenize import word_tokenize\n",
    "from nltk.corpus import stopwords\n",
    "from nltk.stem.porter import PorterStemmer\n",
    "\n",
    "wine_desc = pd.DataFrame({'description': wine_reviews['description']})"
   ]
  },
  {
   "cell_type": "markdown",
   "metadata": {},
   "source": [
    "#### 1. Lower case"
   ]
  },
  {
   "cell_type": "code",
   "execution_count": 15,
   "metadata": {},
   "outputs": [
    {
     "data": {
      "text/plain": [
       "0    this tremendous 100% varietal wine hails from ...\n",
       "1    ripe aromas of fig, blackberry and cassis are ...\n",
       "2    mac watson honors the memory of a wine once ma...\n",
       "3    this spent 20 months in 30% new french oak, an...\n",
       "4    this is the top wine from la bégude, named aft...\n",
       "Name: clean_desc, dtype: object"
      ]
     },
     "execution_count": 15,
     "metadata": {},
     "output_type": "execute_result"
    }
   ],
   "source": [
    "wine_desc['clean_desc'] = wine_desc['description'].apply(lambda x: x.lower())\n",
    "wine_desc['clean_desc'].head()"
   ]
  },
  {
   "cell_type": "markdown",
   "metadata": {},
   "source": [
    "#### 2. Remove punctuation"
   ]
  },
  {
   "cell_type": "code",
   "execution_count": 16,
   "metadata": {},
   "outputs": [
    {
     "data": {
      "text/plain": [
       "0    this tremendous 100 varietal wine hails from o...\n",
       "1    ripe aromas of fig blackberry and cassis are s...\n",
       "2    mac watson honors the memory of a wine once ma...\n",
       "3    this spent 20 months in 30 new french oak and ...\n",
       "4    this is the top wine from la bégude named afte...\n",
       "Name: clean_desc, dtype: object"
      ]
     },
     "execution_count": 16,
     "metadata": {},
     "output_type": "execute_result"
    }
   ],
   "source": [
    "wine_desc['clean_desc'] = wine_desc['clean_desc'].str.replace('[^\\w\\s]', '')\n",
    "wine_desc['clean_desc'].head()"
   ]
  },
  {
   "cell_type": "markdown",
   "metadata": {},
   "source": [
    "#### 3. Remove numbers"
   ]
  },
  {
   "cell_type": "code",
   "execution_count": 17,
   "metadata": {},
   "outputs": [
    {
     "data": {
      "text/plain": [
       "0    this tremendous  varietal wine hails from oakv...\n",
       "1    ripe aromas of fig blackberry and cassis are s...\n",
       "2    mac watson honors the memory of a wine once ma...\n",
       "3    this spent  months in  new french oak and inco...\n",
       "4    this is the top wine from la bégude named afte...\n",
       "Name: clean_desc, dtype: object"
      ]
     },
     "execution_count": 17,
     "metadata": {},
     "output_type": "execute_result"
    }
   ],
   "source": [
    "wine_desc['clean_desc'] = wine_desc['clean_desc'].str.replace('[0-9]+', '')\n",
    "wine_desc['clean_desc'].head()"
   ]
  },
  {
   "cell_type": "markdown",
   "metadata": {},
   "source": [
    "#### 4. Remove stop words"
   ]
  },
  {
   "cell_type": "code",
   "execution_count": 18,
   "metadata": {},
   "outputs": [
    {
     "data": {
      "text/plain": [
       "0    tremendous varietal wine hails oakville aged t...\n",
       "1    ripe aromas fig blackberry cassis softened swe...\n",
       "2    mac watson honors memory wine made mother trem...\n",
       "3    spent months new french oak incorporates fruit...\n",
       "4    top wine la bégude named highest point vineyar...\n",
       "Name: clean_desc, dtype: object"
      ]
     },
     "execution_count": 18,
     "metadata": {},
     "output_type": "execute_result"
    }
   ],
   "source": [
    "stop_words = stopwords.words('english')\n",
    "wine_desc['clean_desc'] = wine_desc['clean_desc'].apply(lambda x: ' '.join(w for w in x.split() if w not in stop_words))\n",
    "wine_desc['clean_desc'].head()"
   ]
  },
  {
   "cell_type": "markdown",
   "metadata": {},
   "source": [
    "#### 5. Lemmatization"
   ]
  },
  {
   "cell_type": "markdown",
   "metadata": {},
   "source": [
    "I have also tried stemming but sometimes stemming can transform words a lot. On the other hand, lemmatization is to obtain the root word, which is what we really want to keep in our texts."
   ]
  },
  {
   "cell_type": "code",
   "execution_count": null,
   "metadata": {
    "collapsed": true
   },
   "outputs": [],
   "source": [
    "# stem words\n",
    "porter = PorterStemmer()\n",
    "wine_desc['clean_desc'][:10].apply(lambda x: ' '.join([porter.stem(w) for w in x.split()]))"
   ]
  },
  {
   "cell_type": "markdown",
   "metadata": {},
   "source": [
    "I have updated the approach here since I found that lemmatization would treat a word as a noun by default. So we need to find out the POS tag and pass it on to the lemmatizer."
   ]
  },
  {
   "cell_type": "code",
   "execution_count": null,
   "metadata": {
    "collapsed": true
   },
   "outputs": [],
   "source": [
    "# lemmatization\n",
    "from nltk.stem import WordNetLemmatizer\n",
    "from nltk.corpus import wordnet\n",
    "lemmatizer = WordNetLemmatizer()\n",
    "\n",
    "def get_wordnet_tag(nltk_tag):\n",
    "    if nltk_tag.startswith('J'):\n",
    "        return wordnet.ADJ\n",
    "    elif nltk_tag.startswith('V'):\n",
    "        return wordnet.VERB\n",
    "    elif nltk_tag.startswith('N'):\n",
    "        return wordnet.NOUN\n",
    "    elif nltk_tag.startswith('R'):\n",
    "        return wordnet.ADV\n",
    "    else:          \n",
    "        return None\n",
    "\n",
    "def lemmatize(sentence):\n",
    "    tagged = nltk.pos_tag(nltk.word_tokenize(sentence))\n",
    "    lemmatized_sentence = []\n",
    "    for word, tag in tagged:\n",
    "        wntag = get_wordnet_tag(tag)\n",
    "        if wntag is None:\n",
    "            lemmatized_sentence.append(lemmatizer.lemmatize(word))\n",
    "        else:\n",
    "            lemmatized_sentence.append(lemmatizer.lemmatize(word, pos = wntag))\n",
    "    return ' '.join(lemmatized_sentence)\n",
    "\n",
    "wine_desc['clean_desc'] = wine_desc['clean_desc'].apply(lambda x: lemmatize(x))\n",
    "wine_desc['clean_desc'][:10]"
   ]
  },
  {
   "cell_type": "markdown",
   "metadata": {},
   "source": [
    "Let us see the most common words in our descriptions."
   ]
  },
  {
   "cell_type": "code",
   "execution_count": null,
   "metadata": {
    "collapsed": true
   },
   "outputs": [],
   "source": [
    "pd.Series(' '.join(wine_desc['clean_desc']).split()).value_counts()[:10]"
   ]
  },
  {
   "cell_type": "markdown",
   "metadata": {},
   "source": [
    "Look at how we have cleaned the texts so far."
   ]
  },
  {
   "cell_type": "code",
   "execution_count": null,
   "metadata": {
    "collapsed": true
   },
   "outputs": [],
   "source": [
    "wine_desc.head()"
   ]
  },
  {
   "cell_type": "markdown",
   "metadata": {},
   "source": [
    "### Feature Extraction"
   ]
  },
  {
   "cell_type": "markdown",
   "metadata": {},
   "source": [
    "Now we have words of text representing discrete, categorical features of wines. In order to prepare text data for predictive modeling, we need to map these textual data to real valued vectors for use as input to a machine learning algorithm, called feature extraction."
   ]
  },
  {
   "cell_type": "markdown",
   "metadata": {},
   "source": [
    "#### 1. Word Counts with CountVectorizer"
   ]
  },
  {
   "cell_type": "markdown",
   "metadata": {},
   "source": [
    "For each row, CountVectorizer returns a vector whose length equals the number of distinct words from the document, with integer counts for the number of times each word appeared in the document."
   ]
  },
  {
   "cell_type": "code",
   "execution_count": null,
   "metadata": {
    "collapsed": true
   },
   "outputs": [],
   "source": [
    "from sklearn.feature_extraction.text import CountVectorizer\n",
    "X_desc = wine_desc['clean_desc']\n",
    "\n",
    "vectorizer = CountVectorizer()\n",
    "vectorizer.fit(X_desc)\n",
    "X_count = vectorizer.transform(X_desc)\n",
    "print(X_count.shape)"
   ]
  },
  {
   "cell_type": "code",
   "execution_count": null,
   "metadata": {
    "collapsed": true
   },
   "outputs": [],
   "source": [
    "vectorizer = CountVectorizer(max_features = 20000)\n",
    "vectorizer.fit(X_desc)\n",
    "X_count = vectorizer.transform(X_desc)"
   ]
  },
  {
   "cell_type": "markdown",
   "metadata": {},
   "source": [
    "#### 2. Word Frequencies with TfidfVectorizer"
   ]
  },
  {
   "cell_type": "markdown",
   "metadata": {},
   "source": [
    "- TF(Term Frequency) = (Number of Occurences of a word)/(Total words in the document) \n",
    "- IDF(Inverse Document Frequency) = Log((Total number of documents)/(Number of documents containing the word))  \n",
    "- TF-IDF = multiplication of the TF and IDF"
   ]
  },
  {
   "cell_type": "markdown",
   "metadata": {},
   "source": [
    "The higher the value of IDF, the more unique is the word. So we can think of IDF as a penalty on TF. For example, \"fruit\" is one of the commonly occurring words across wine descriptions as we have seen. However, it is not useful to distinguish between documents and so its TF-IDF score can not be high."
   ]
  },
  {
   "cell_type": "code",
   "execution_count": null,
   "metadata": {
    "collapsed": true
   },
   "outputs": [],
   "source": [
    "from sklearn.feature_extraction.text import TfidfVectorizer\n",
    "\n",
    "vectorizer = TfidfVectorizer()\n",
    "vectorizer.fit(X_desc)\n",
    "X_tfidf = vectorizer.transform(X_desc)\n",
    "print(X_tfidf.shape)\n",
    "\n",
    "X = X_tfidf\n",
    "X_train_tfidf, X_test_tfidf, y_train_tfidf, y_test_tfidf = train_test_split(X, y, test_size=0.1, random_state=12)"
   ]
  },
  {
   "cell_type": "markdown",
   "metadata": {},
   "source": [
    "#### 3. Word Embeddings"
   ]
  },
  {
   "cell_type": "markdown",
   "metadata": {},
   "source": [
    "* Word2Vec"
   ]
  },
  {
   "cell_type": "code",
   "execution_count": null,
   "metadata": {
    "collapsed": true
   },
   "outputs": [],
   "source": [
    "import gensim \n",
    "from gensim.models import Word2Vec\n",
    "\n",
    "tokenized_desc = [sentence.split() for sentence in wine_desc['clean_desc']]\n",
    "model_word2vec = gensim.models.Word2Vec(tokenized_desc, min_count = 3, size = 100, window = 5) "
   ]
  },
  {
   "cell_type": "code",
   "execution_count": null,
   "metadata": {
    "collapsed": true
   },
   "outputs": [],
   "source": [
    "# access vector for one word\n",
    "print(model_word2vec['redcherry'])"
   ]
  },
  {
   "cell_type": "markdown",
   "metadata": {},
   "source": [
    "* Glove"
   ]
  },
  {
   "cell_type": "code",
   "execution_count": null,
   "metadata": {
    "collapsed": true
   },
   "outputs": [],
   "source": [
    "from keras.preprocessing.text import Tokenizer\n",
    "tokenizer = Tokenizer()\n",
    "descriptions = wine_desc['clean_desc'].values\n",
    "tokenizer.fit_on_texts(descriptions)\n",
    "word_index = tokenizer.word_index\n",
    "\n",
    "X_train = tokenizer.texts_to_sequences(descriptions)\n",
    "\n",
    "vocab_size = len(tokenizer.word_index) + 1\n",
    "print(sentences_train[2])\n",
    "print(X_train[2])"
   ]
  },
  {
   "cell_type": "code",
   "execution_count": null,
   "metadata": {
    "collapsed": true
   },
   "outputs": [],
   "source": [
    "# load the pre-trained word-embedding vectors \n",
    "embeddings_index = {}\n",
    "with open('../input/glove6b100dtxt/glove.6B.100d.txt') as f:\n",
    "    for line in f:\n",
    "        values = line.split()\n",
    "        word = values[0]\n",
    "        coefs = np.asarray(values[1:], dtype='float32')\n",
    "        embeddings_index[word] = coefs\n",
    "\n",
    "# create a tokenizer \n",
    "token = text.Tokenizer()\n",
    "token.fit_on_texts(trainDF['text'])\n",
    "word_index = token.word_index\n",
    "\n",
    "train_x, valid_x, train_y, valid_y = model_selection.train_test_split(trainDF['text'], trainDF['label'])\n",
    "# convert text to sequence of tokens and pad them to ensure equal length vectors \n",
    "train_seq_x = sequence.pad_sequences(token.texts_to_sequences(train_x), maxlen=70)\n",
    "valid_seq_x = sequence.pad_sequences(token.texts_to_sequences(valid_x), maxlen=70) \n",
    "\n",
    "# create token-embedding mapping\n",
    "embedding_matrix = np.zeros((len(word_index) + 1, 100))\n",
    "for word, i in word_index.items():\n",
    "    embedding_vector = embeddings_index.get(word)\n",
    "    if embedding_vector is not None:\n",
    "        # words not found in embedding index will be all-zeros.\n",
    "        embedding_matrix[i] = embedding_vector"
   ]
  },
  {
   "cell_type": "code",
   "execution_count": null,
   "metadata": {
    "collapsed": true
   },
   "outputs": [],
   "source": [
    "nonzero_elements = np.count_nonzero(np.count_nonzero(embedding_matrix, axis=1))\n",
    "nonzero_elements / vocab_size"
   ]
  },
  {
   "cell_type": "code",
   "execution_count": null,
   "metadata": {
    "collapsed": true
   },
   "outputs": [],
   "source": [
    "model = Sequential()\n",
    "model.add(layers.Embedding(vocab_size, embedding_dim, \n",
    "                           weights=[embedding_matrix], \n",
    "                           input_length=maxlen, \n",
    "                           trainable=False))\n",
    "model.add(layers.GlobalMaxPool1D())\n",
    "model.add(layers.Dense(10, activation='relu'))\n",
    "model.add(layers.Dense(1, activation='sigmoid'))\n",
    "model.compile(optimizer='adam',\n",
    "              loss='binary_crossentropy',\n",
    "              metrics=['accuracy'])\n",
    "model.summary()"
   ]
  },
  {
   "cell_type": "markdown",
   "metadata": {},
   "source": [
    "## Start Training"
   ]
  },
  {
   "cell_type": "markdown",
   "metadata": {},
   "source": [
    "### 1. CountVectorizer"
   ]
  },
  {
   "cell_type": "code",
   "execution_count": null,
   "metadata": {
    "collapsed": true
   },
   "outputs": [],
   "source": [
    "from sklearn.model_selection import train_test_split\n",
    "from sklearn.ensemble import RandomForestRegressor\n",
    "\n",
    "y = wine_reviews['points'].values\n",
    "X_train_count, X_test_count, y_train_count, y_test_count = train_test_split(X_count, y, test_size = 0.25, random_state = 12)\n",
    "\n",
    "# train the model\n",
    "rf = RandomForestRegressor(n_estimators=400)\n",
    "rf.fit(X_train_count, y_train_count)\n",
    "\n",
    "# test the model\n",
    "y_pred_rf = rf.predict(X_test_count)\n",
    "print('Mean Absolute Error:', metrics.mean_absolute_error(y_test_count, y_pred_rf))  \n",
    "print('Mean Squared Error:', metrics.mean_squared_error(y_test_count, y_pred_rf))  \n",
    "print('Root Mean Squared Error:', np.sqrt(metrics.mean_squared_error(y_test_count, y_pred_rf)))"
   ]
  },
  {
   "cell_type": "code",
   "execution_count": null,
   "metadata": {
    "collapsed": true
   },
   "outputs": [],
   "source": [
    "\n",
    "\n",
    "X_count_df = pd.DataFrame(X_count.toarray())\n",
    "X = pd.concat([X_encoded, X_count_df], axis = 1)\n",
    "X_train_count, X_test_count, y_train_count, y_test_count = train_test_split(X, y, test_size = 0.25, random_state = 12)"
   ]
  }
 ],
 "metadata": {
  "kernelspec": {
   "display_name": "Python 3",
   "language": "python",
   "name": "python3"
  },
  "language_info": {
   "codemirror_mode": {
    "name": "ipython",
    "version": 3
   },
   "file_extension": ".py",
   "mimetype": "text/x-python",
   "name": "python",
   "nbconvert_exporter": "python",
   "pygments_lexer": "ipython3",
   "version": "3.6.1"
  }
 },
 "nbformat": 4,
 "nbformat_minor": 1
}
